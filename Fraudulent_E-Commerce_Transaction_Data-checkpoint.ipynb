{
 "cells": [
  {
   "cell_type": "code",
   "execution_count": 245,
   "id": "8e328d59-0528-4f75-8cb7-36bdb0234694",
   "metadata": {},
   "outputs": [],
   "source": [
    "import pandas as pd\n",
    "import numpy as np \n",
    "import seaborn as sns\n",
    "import matplotlib.pyplot as plt"
   ]
  },
  {
   "cell_type": "code",
   "execution_count": 246,
   "id": "dcdb4b69-6fa6-4ea2-aa13-1d2933fb43ac",
   "metadata": {},
   "outputs": [],
   "source": [
    "df_test=pd.read_csv(\"Fraudulent_E-Commerce_Transaction_Data_2.csv\")\n",
    "df_train=pd.read_csv(\"Fraudulent_E-Commerce_Transaction_Data.csv\")"
   ]
  },
  {
   "cell_type": "code",
   "execution_count": 247,
   "id": "2bd64286-03d2-4ccd-b7b9-363ebf81d3b8",
   "metadata": {},
   "outputs": [
    {
     "name": "stdout",
     "output_type": "stream",
     "text": [
      "test data (23634, 16)\n",
      "train data (1472952, 16)\n"
     ]
    }
   ],
   "source": [
    "print(\"test data\",df_test.shape)\n",
    "print(\"train data\",df_train.shape)"
   ]
  },
  {
   "cell_type": "code",
   "execution_count": 248,
   "id": "5af5c210-7c0e-412d-afb1-615c664b63a3",
   "metadata": {},
   "outputs": [
    {
     "name": "stdout",
     "output_type": "stream",
     "text": [
      "<class 'pandas.core.frame.DataFrame'>\n",
      "RangeIndex: 23634 entries, 0 to 23633\n",
      "Data columns (total 16 columns):\n",
      " #   Column              Non-Null Count  Dtype  \n",
      "---  ------              --------------  -----  \n",
      " 0   Transaction ID      23634 non-null  object \n",
      " 1   Customer ID         23634 non-null  object \n",
      " 2   Transaction Amount  23634 non-null  float64\n",
      " 3   Transaction Date    23634 non-null  object \n",
      " 4   Payment Method      23634 non-null  object \n",
      " 5   Product Category    23634 non-null  object \n",
      " 6   Quantity            23634 non-null  int64  \n",
      " 7   Customer Age        23634 non-null  int64  \n",
      " 8   Customer Location   23634 non-null  object \n",
      " 9   Device Used         23634 non-null  object \n",
      " 10  IP Address          23634 non-null  object \n",
      " 11  Shipping Address    23634 non-null  object \n",
      " 12  Billing Address     23634 non-null  object \n",
      " 13  Is Fraudulent       23634 non-null  int64  \n",
      " 14  Account Age Days    23634 non-null  int64  \n",
      " 15  Transaction Hour    23634 non-null  int64  \n",
      "dtypes: float64(1), int64(5), object(10)\n",
      "memory usage: 2.9+ MB\n",
      "test info None\n",
      "<class 'pandas.core.frame.DataFrame'>\n",
      "RangeIndex: 23634 entries, 0 to 23633\n",
      "Data columns (total 16 columns):\n",
      " #   Column              Non-Null Count  Dtype  \n",
      "---  ------              --------------  -----  \n",
      " 0   Transaction ID      23634 non-null  object \n",
      " 1   Customer ID         23634 non-null  object \n",
      " 2   Transaction Amount  23634 non-null  float64\n",
      " 3   Transaction Date    23634 non-null  object \n",
      " 4   Payment Method      23634 non-null  object \n",
      " 5   Product Category    23634 non-null  object \n",
      " 6   Quantity            23634 non-null  int64  \n",
      " 7   Customer Age        23634 non-null  int64  \n",
      " 8   Customer Location   23634 non-null  object \n",
      " 9   Device Used         23634 non-null  object \n",
      " 10  IP Address          23634 non-null  object \n",
      " 11  Shipping Address    23634 non-null  object \n",
      " 12  Billing Address     23634 non-null  object \n",
      " 13  Is Fraudulent       23634 non-null  int64  \n",
      " 14  Account Age Days    23634 non-null  int64  \n",
      " 15  Transaction Hour    23634 non-null  int64  \n",
      "dtypes: float64(1), int64(5), object(10)\n",
      "memory usage: 2.9+ MB\n",
      "test info None\n"
     ]
    }
   ],
   "source": [
    "print(\"test info\",df_test.info())\n",
    "print(\"test info\",df_test.info())"
   ]
  },
  {
   "cell_type": "code",
   "execution_count": 249,
   "id": "4581a8b6-5ec1-4158-a66b-fe6852e1aea4",
   "metadata": {},
   "outputs": [
    {
     "data": {
      "text/html": [
       "<div>\n",
       "<style scoped>\n",
       "    .dataframe tbody tr th:only-of-type {\n",
       "        vertical-align: middle;\n",
       "    }\n",
       "\n",
       "    .dataframe tbody tr th {\n",
       "        vertical-align: top;\n",
       "    }\n",
       "\n",
       "    .dataframe thead th {\n",
       "        text-align: right;\n",
       "    }\n",
       "</style>\n",
       "<table border=\"1\" class=\"dataframe\">\n",
       "  <thead>\n",
       "    <tr style=\"text-align: right;\">\n",
       "      <th></th>\n",
       "      <th>Transaction Amount</th>\n",
       "      <th>Quantity</th>\n",
       "      <th>Customer Age</th>\n",
       "      <th>Is Fraudulent</th>\n",
       "      <th>Account Age Days</th>\n",
       "      <th>Transaction Hour</th>\n",
       "    </tr>\n",
       "  </thead>\n",
       "  <tbody>\n",
       "    <tr>\n",
       "      <th>count</th>\n",
       "      <td>1.472952e+06</td>\n",
       "      <td>1.472952e+06</td>\n",
       "      <td>1.472952e+06</td>\n",
       "      <td>1.472952e+06</td>\n",
       "      <td>1.472952e+06</td>\n",
       "      <td>1.472952e+06</td>\n",
       "    </tr>\n",
       "    <tr>\n",
       "      <th>mean</th>\n",
       "      <td>2.267683e+02</td>\n",
       "      <td>3.000230e+00</td>\n",
       "      <td>3.451208e+01</td>\n",
       "      <td>5.012926e-02</td>\n",
       "      <td>1.796464e+02</td>\n",
       "      <td>1.128696e+01</td>\n",
       "    </tr>\n",
       "    <tr>\n",
       "      <th>std</th>\n",
       "      <td>2.703951e+02</td>\n",
       "      <td>1.414736e+00</td>\n",
       "      <td>1.000313e+01</td>\n",
       "      <td>2.182117e-01</td>\n",
       "      <td>1.068642e+02</td>\n",
       "      <td>6.975995e+00</td>\n",
       "    </tr>\n",
       "    <tr>\n",
       "      <th>min</th>\n",
       "      <td>1.000000e+01</td>\n",
       "      <td>1.000000e+00</td>\n",
       "      <td>-1.600000e+01</td>\n",
       "      <td>0.000000e+00</td>\n",
       "      <td>1.000000e+00</td>\n",
       "      <td>0.000000e+00</td>\n",
       "    </tr>\n",
       "    <tr>\n",
       "      <th>25%</th>\n",
       "      <td>6.861000e+01</td>\n",
       "      <td>2.000000e+00</td>\n",
       "      <td>2.800000e+01</td>\n",
       "      <td>0.000000e+00</td>\n",
       "      <td>8.600000e+01</td>\n",
       "      <td>5.000000e+00</td>\n",
       "    </tr>\n",
       "    <tr>\n",
       "      <th>50%</th>\n",
       "      <td>1.517600e+02</td>\n",
       "      <td>3.000000e+00</td>\n",
       "      <td>3.500000e+01</td>\n",
       "      <td>0.000000e+00</td>\n",
       "      <td>1.790000e+02</td>\n",
       "      <td>1.100000e+01</td>\n",
       "    </tr>\n",
       "    <tr>\n",
       "      <th>75%</th>\n",
       "      <td>2.960500e+02</td>\n",
       "      <td>4.000000e+00</td>\n",
       "      <td>4.100000e+01</td>\n",
       "      <td>0.000000e+00</td>\n",
       "      <td>2.720000e+02</td>\n",
       "      <td>1.700000e+01</td>\n",
       "    </tr>\n",
       "    <tr>\n",
       "      <th>max</th>\n",
       "      <td>1.270175e+04</td>\n",
       "      <td>5.000000e+00</td>\n",
       "      <td>8.600000e+01</td>\n",
       "      <td>1.000000e+00</td>\n",
       "      <td>3.650000e+02</td>\n",
       "      <td>2.300000e+01</td>\n",
       "    </tr>\n",
       "  </tbody>\n",
       "</table>\n",
       "</div>"
      ],
      "text/plain": [
       "       Transaction Amount      Quantity  Customer Age  Is Fraudulent  \\\n",
       "count        1.472952e+06  1.472952e+06  1.472952e+06   1.472952e+06   \n",
       "mean         2.267683e+02  3.000230e+00  3.451208e+01   5.012926e-02   \n",
       "std          2.703951e+02  1.414736e+00  1.000313e+01   2.182117e-01   \n",
       "min          1.000000e+01  1.000000e+00 -1.600000e+01   0.000000e+00   \n",
       "25%          6.861000e+01  2.000000e+00  2.800000e+01   0.000000e+00   \n",
       "50%          1.517600e+02  3.000000e+00  3.500000e+01   0.000000e+00   \n",
       "75%          2.960500e+02  4.000000e+00  4.100000e+01   0.000000e+00   \n",
       "max          1.270175e+04  5.000000e+00  8.600000e+01   1.000000e+00   \n",
       "\n",
       "       Account Age Days  Transaction Hour  \n",
       "count      1.472952e+06      1.472952e+06  \n",
       "mean       1.796464e+02      1.128696e+01  \n",
       "std        1.068642e+02      6.975995e+00  \n",
       "min        1.000000e+00      0.000000e+00  \n",
       "25%        8.600000e+01      5.000000e+00  \n",
       "50%        1.790000e+02      1.100000e+01  \n",
       "75%        2.720000e+02      1.700000e+01  \n",
       "max        3.650000e+02      2.300000e+01  "
      ]
     },
     "execution_count": 249,
     "metadata": {},
     "output_type": "execute_result"
    }
   ],
   "source": [
    "df_train.describe()"
   ]
  },
  {
   "cell_type": "code",
   "execution_count": 250,
   "id": "878203d4-c4fd-4c12-b9f3-fe3685902705",
   "metadata": {},
   "outputs": [
    {
     "data": {
      "text/plain": [
       "array([ True,  True,  True,  True,  True,  True,  True,  True,  True,\n",
       "        True,  True,  True,  True,  True,  True,  True])"
      ]
     },
     "execution_count": 250,
     "metadata": {},
     "output_type": "execute_result"
    }
   ],
   "source": [
    "df_train.columns==df_test.columns"
   ]
  },
  {
   "cell_type": "code",
   "execution_count": 251,
   "id": "0108f6e2-85d6-4e32-853b-fe973f7e7ed6",
   "metadata": {},
   "outputs": [
    {
     "name": "stdout",
     "output_type": "stream",
     "text": [
      "df_train Is Fraudulent\n",
      "0    1399114\n",
      "1      73838\n",
      "Name: count, dtype: int64\n",
      "df_test Is Fraudulent\n",
      "0    22412\n",
      "1     1222\n",
      "Name: count, dtype: int64\n"
     ]
    }
   ],
   "source": [
    "print(\"df_train\",df_train[\"Is Fraudulent\"].value_counts())\n",
    "print(\"df_test\",df_test[\"Is Fraudulent\"].value_counts())"
   ]
  },
  {
   "cell_type": "code",
   "execution_count": 252,
   "id": "244022c5-e5c6-4cbb-94e2-e0ce692cf392",
   "metadata": {},
   "outputs": [],
   "source": [
    "# new_column_order = ['Transaction Amount', 'Payment Method', 'Product Category', 'Quantity',\n",
    "#                    'Customer Age', 'Device Used','Address Match' , 'Account Age Days',\n",
    "#                    'Transaction Hour','Is Fraudulent']"
   ]
  },
  {
   "cell_type": "code",
   "execution_count": 253,
   "id": "f602018a-07cf-42e6-8dc4-3b27c3917f40",
   "metadata": {},
   "outputs": [
    {
     "name": "stdout",
     "output_type": "stream",
     "text": [
      "df_train [ 17  40  22  31  51  34  14  42  38  39  20  35  45  27  54  41  30  29\n",
      "  33  49  18  48  13  46  32  37  52  43  24  36  58  16  21  26  55  25\n",
      "  23  28  60  50  63  19  62  53  44  47  67  12  57  11  15  56  59  61\n",
      "   8   2   9   5  10  69  65  64   0  73  -3  70   6  68   3   7   1   4\n",
      "  -4  74  66  -1  71  -2  72  -6  80  76  -8  77  -5  75  79 -11 -16  -9\n",
      " -13  78  81 -10  -7 -12  86]\n",
      "df_test [40 35 29 45 42  9 41 39 19 24 53 51 15 33 37 34 18 27 48 22 25 14 28 44\n",
      " 32 46 17 60 23 30 26 31 20 43 38 47 36 50 49 16 61 21 58 13 54 52  8 56\n",
      " 12 73 55 57  6  5 11 65  7  3 10  4 59 62 64 63 67  0 66  2  1 68 -2 69\n",
      " 70 71]\n"
     ]
    }
   ],
   "source": [
    "print(\"df_train\",df_train['Customer Age'].unique())\n",
    "print(\"df_test\",df_test['Customer Age'].unique())"
   ]
  },
  {
   "cell_type": "code",
   "execution_count": 254,
   "id": "93919363-4af3-4440-919f-e9c632bf63be",
   "metadata": {},
   "outputs": [
    {
     "data": {
      "image/png": "[encoded data removed]",
      "text/plain": [
       "<Figure size 640x480 with 1 Axes>"
      ]
     },
     "metadata": {},
     "output_type": "display_data"
    }
   ],
   "source": [
    "sns.boxplot(data=df_train,x=df_train['Customer Age'])\n",
    "plt.show()"
   ]
  },
  {
   "cell_type": "code",
   "execution_count": 255,
   "id": "bd61a9c1-c460-4177-8e5f-a53aed824540",
   "metadata": {},
   "outputs": [],
   "source": [
    "\n",
    "# mean_value = np.round(df_train['Customer Age'].median(),0) \n",
    "# df_train['Customer Age'] = np.where(df_train['Customer Age'] < 9,np.abs(df_train['Customer Age']), df_train['Customer Age'])"
   ]
  },
  {
   "cell_type": "code",
   "execution_count": 256,
   "id": "3eb995d6-a655-43ea-ad28-ef8fbdbf90fa",
   "metadata": {},
   "outputs": [],
   "source": [
    "# df_train['Customer Age'].unique()"
   ]
  },
  {
   "cell_type": "code",
   "execution_count": 257,
   "id": "53979e91-0eb1-426e-8920-09a1ff12f70f",
   "metadata": {},
   "outputs": [],
   "source": [
    "# for train data set\n",
    "train_median_age = np.round(np.median(df_train['Customer Age']))\n",
    "# for test data set\n",
    "train_median_age\n",
    "test_median_age = np.round(np.median(df_test['Customer Age']))"
   ]
  },
  {
   "cell_type": "code",
   "execution_count": 258,
   "id": "8278152e-45f2-4b80-82ce-dff6ba73bda8",
   "metadata": {},
   "outputs": [
    {
     "data": {
      "text/plain": [
       "(35.0, 35.0)"
      ]
     },
     "execution_count": 258,
     "metadata": {},
     "output_type": "execute_result"
    }
   ],
   "source": [
    "train_median_age,test_median_age"
   ]
  },
  {
   "cell_type": "code",
   "execution_count": 259,
   "id": "1b790ea0-a1a5-43dd-b710-a255fa903448",
   "metadata": {},
   "outputs": [],
   "source": [
    "\n",
    "# Replace unrealistic values (e.g., ages less than 10) with the median age\n",
    "# for train data\n",
    "df_train['Customer Age'] = np.where(df_train['Customer Age'] < 9, train_median_age, df_train['Customer Age'])\n",
    "df_train['Customer Age'] = df_train['Customer Age'].astype(int)\n",
    "\n",
    "\n",
    "# for test data \n",
    "df_test['Customer Age'] = np.where(df_test['Customer Age'] < 9, test_median_age, df_test['Customer Age'])\n",
    "df_test['Customer Age'] = df_test['Customer Age'].astype(int)\n"
   ]
  },
  {
   "cell_type": "code",
   "execution_count": 260,
   "id": "fc856f26-05bf-4dad-a0ba-02679b6e4883",
   "metadata": {},
   "outputs": [
    {
     "data": {
      "text/plain": [
       "(array([17, 40, 22, 31, 51, 34, 14, 42, 38, 39, 20, 35, 45, 27, 54, 41, 30,\n",
       "        29, 33, 49, 18, 48, 13, 46, 32, 37, 52, 43, 24, 36, 58, 16, 21, 26,\n",
       "        55, 25, 23, 28, 60, 50, 63, 19, 62, 53, 44, 47, 67, 12, 57, 11, 15,\n",
       "        56, 59, 61,  9, 10, 69, 65, 64, 73, 70, 68, 74, 66, 71, 72, 80, 76,\n",
       "        77, 75, 79, 78, 81, 86]),\n",
       " array([40, 35, 29, 45, 42,  9, 41, 39, 19, 24, 53, 51, 15, 33, 37, 34, 18,\n",
       "        27, 48, 22, 25, 14, 28, 44, 32, 46, 17, 60, 23, 30, 26, 31, 20, 43,\n",
       "        38, 47, 36, 50, 49, 16, 61, 21, 58, 13, 54, 52, 56, 12, 73, 55, 57,\n",
       "        11, 65, 10, 59, 62, 64, 63, 67, 66, 68, 69, 70, 71]))"
      ]
     },
     "execution_count": 260,
     "metadata": {},
     "output_type": "execute_result"
    }
   ],
   "source": [
    "df_train['Customer Age'].unique(),df_test['Customer Age'].unique()"
   ]
  },
  {
   "cell_type": "code",
   "execution_count": 261,
   "id": "76854050-8ed5-4b75-a034-b6af75dfb385",
   "metadata": {},
   "outputs": [],
   "source": [
    "# for train \n",
    "df_train['Address Match'] = (df_train['Shipping Address'] == df_train['Billing Address']).astype(int)\n",
    "\n",
    "# for test data\n",
    "df_test['Address Match'] = (df_test['Shipping Address'] == df_test['Billing Address']).astype(int)"
   ]
  },
  {
   "cell_type": "code",
   "execution_count": 262,
   "id": "c594b075-c5ac-47f8-845f-e82e541db52a",
   "metadata": {},
   "outputs": [
    {
     "data": {
      "text/plain": [
       "(Address Match\n",
       " 1    1325429\n",
       " 0     147523\n",
       " Name: count, dtype: int64,\n",
       " Address Match\n",
       " 1    21292\n",
       " 0     2342\n",
       " Name: count, dtype: int64)"
      ]
     },
     "execution_count": 262,
     "metadata": {},
     "output_type": "execute_result"
    }
   ],
   "source": [
    "df_train['Address Match'].value_counts(),df_test['Address Match'].value_counts()\n"
   ]
  },
  {
   "cell_type": "code",
   "execution_count": 263,
   "id": "b16de921-2241-4d71-9463-a6512398f176",
   "metadata": {},
   "outputs": [],
   "source": [
    "# for training data \n",
    "df_train = df_train.drop([\"Transaction ID\",\"Customer ID\",\"Customer Location\",\"Transaction Date\",\"IP Address\",\"Shipping Address\",\"Billing Address\"], axis=1)\n",
    "new_column_order = ['Transaction Amount', 'Payment Method', 'Product Category', 'Quantity','Customer Age', 'Device Used','Address Match' , 'Account Age Days','Transaction Hour','Is Fraudulent']"
   ]
  },
  {
   "cell_type": "code",
   "execution_count": 264,
   "id": "859252bb-6db0-4f98-8305-965a78b46b15",
   "metadata": {},
   "outputs": [],
   "source": [
    "# for testing data \n",
    "df_test = df_test.drop([\"Transaction ID\",\"Customer ID\",\"Customer Location\",\"Transaction Date\",\"IP Address\",\"Shipping Address\",\"Billing Address\"], axis=1)\n",
    "new_column_order = ['Transaction Amount', 'Payment Method', 'Product Category', 'Quantity','Customer Age', 'Device Used','Address Match' , 'Account Age Days','Transaction Hour','Is Fraudulent']"
   ]
  },
  {
   "cell_type": "code",
   "execution_count": 265,
   "id": "313c3e18-4606-42b1-a607-d5bb39f47bd7",
   "metadata": {},
   "outputs": [],
   "source": [
    "# for  training\n",
    "df_train = df_train.reindex(columns=new_column_order)\n",
    "# for testing\n",
    "df_test = df_test.reindex(columns=new_column_order)\n",
    "# df_train.head(),df_test.head()"
   ]
  },
  {
   "cell_type": "code",
   "execution_count": 266,
   "id": "79e44e55-878b-4e25-9678-ef70e305f9e5",
   "metadata": {},
   "outputs": [
    {
     "data": {
      "text/plain": [
       "Index(['Transaction Amount', 'Payment Method', 'Product Category', 'Quantity',\n",
       "       'Customer Age', 'Device Used', 'Address Match', 'Account Age Days',\n",
       "       'Transaction Hour', 'Is Fraudulent'],\n",
       "      dtype='object')"
      ]
     },
     "execution_count": 266,
     "metadata": {},
     "output_type": "execute_result"
    }
   ],
   "source": [
    "df_train.columns"
   ]
  },
  {
   "cell_type": "code",
   "execution_count": 267,
   "id": "5fba84fb-6ea4-4fbd-989d-33af483e75d3",
   "metadata": {},
   "outputs": [],
   "source": [
    "# for traning data\n",
    "x_train=df_train.iloc[:,:-1]\n",
    "y_train = df_train[\"Is Fraudulent\"]\n",
    "# for testing data\n",
    "x_test=df_test.iloc[:,:-1]\n",
    "y_test = df_test[\"Is Fraudulent\"]"
   ]
  },
  {
   "cell_type": "code",
   "execution_count": null,
   "id": "9981e43f-2f18-422e-aac9-6b0742af518a",
   "metadata": {},
   "outputs": [],
   "source": []
  },
  {
   "cell_type": "code",
   "execution_count": 268,
   "id": "3e825f53-3897-4fa4-9905-d3067681f7c1",
   "metadata": {},
   "outputs": [],
   "source": [
    "from sklearn.preprocessing import OneHotEncoder,StandardScaler\n",
    "from sklearn.model_selection import train_test_split\n",
    "from sklearn.compose import ColumnTransformer\n",
    "import numpy as np\n",
    "from sklearn.impute import SimpleImputer\n",
    "from sklearn.metrics import classification_report\n"
   ]
  },
  {
   "cell_type": "code",
   "execution_count": 269,
   "id": "674405dc-2f79-4dcd-a695-20e96d108507",
   "metadata": {},
   "outputs": [
    {
     "data": {
      "text/plain": [
       "((1472952,),\n",
       " (1472952, 9),\n",
       " (23634, 9),\n",
       " 0        0\n",
       " 1        0\n",
       " 2        0\n",
       " 3        0\n",
       " 4        0\n",
       "         ..\n",
       " 23629    0\n",
       " 23630    0\n",
       " 23631    0\n",
       " 23632    0\n",
       " 23633    0\n",
       " Name: Is Fraudulent, Length: 23634, dtype: int64)"
      ]
     },
     "execution_count": 269,
     "metadata": {},
     "output_type": "execute_result"
    }
   ],
   "source": [
    "y.shape,x.shape,x_test.shape,y_test"
   ]
  },
  {
   "cell_type": "code",
   "execution_count": 270,
   "id": "7c8b6d78-9375-4b05-96a0-fc833be3270d",
   "metadata": {},
   "outputs": [],
   "source": [
    "numer=['Transaction Amount','Quantity','Customer Age','Address Match','Account Age Days','Transaction Hour']\n",
    "categ=['Payment Method', 'Product Category','Device Used']"
   ]
  },
  {
   "cell_type": "code",
   "execution_count": 271,
   "id": "2aed25a2-c616-41b6-9c59-7f5416af8527",
   "metadata": {},
   "outputs": [
    {
     "data": {
      "text/html": [
       "<div>\n",
       "<style scoped>\n",
       "    .dataframe tbody tr th:only-of-type {\n",
       "        vertical-align: middle;\n",
       "    }\n",
       "\n",
       "    .dataframe tbody tr th {\n",
       "        vertical-align: top;\n",
       "    }\n",
       "\n",
       "    .dataframe thead th {\n",
       "        text-align: right;\n",
       "    }\n",
       "</style>\n",
       "<table border=\"1\" class=\"dataframe\">\n",
       "  <thead>\n",
       "    <tr style=\"text-align: right;\">\n",
       "      <th></th>\n",
       "      <th>Payment Method</th>\n",
       "      <th>Product Category</th>\n",
       "      <th>Device Used</th>\n",
       "    </tr>\n",
       "  </thead>\n",
       "  <tbody>\n",
       "    <tr>\n",
       "      <th>0</th>\n",
       "      <td>bank transfer</td>\n",
       "      <td>electronics</td>\n",
       "      <td>tablet</td>\n",
       "    </tr>\n",
       "    <tr>\n",
       "      <th>1</th>\n",
       "      <td>debit card</td>\n",
       "      <td>electronics</td>\n",
       "      <td>desktop</td>\n",
       "    </tr>\n",
       "    <tr>\n",
       "      <th>2</th>\n",
       "      <td>PayPal</td>\n",
       "      <td>home &amp; garden</td>\n",
       "      <td>tablet</td>\n",
       "    </tr>\n",
       "    <tr>\n",
       "      <th>3</th>\n",
       "      <td>bank transfer</td>\n",
       "      <td>clothing</td>\n",
       "      <td>desktop</td>\n",
       "    </tr>\n",
       "    <tr>\n",
       "      <th>4</th>\n",
       "      <td>bank transfer</td>\n",
       "      <td>clothing</td>\n",
       "      <td>tablet</td>\n",
       "    </tr>\n",
       "    <tr>\n",
       "      <th>...</th>\n",
       "      <td>...</td>\n",
       "      <td>...</td>\n",
       "      <td>...</td>\n",
       "    </tr>\n",
       "    <tr>\n",
       "      <th>1472947</th>\n",
       "      <td>PayPal</td>\n",
       "      <td>health &amp; beauty</td>\n",
       "      <td>desktop</td>\n",
       "    </tr>\n",
       "    <tr>\n",
       "      <th>1472948</th>\n",
       "      <td>credit card</td>\n",
       "      <td>clothing</td>\n",
       "      <td>tablet</td>\n",
       "    </tr>\n",
       "    <tr>\n",
       "      <th>1472949</th>\n",
       "      <td>bank transfer</td>\n",
       "      <td>electronics</td>\n",
       "      <td>mobile</td>\n",
       "    </tr>\n",
       "    <tr>\n",
       "      <th>1472950</th>\n",
       "      <td>bank transfer</td>\n",
       "      <td>electronics</td>\n",
       "      <td>desktop</td>\n",
       "    </tr>\n",
       "    <tr>\n",
       "      <th>1472951</th>\n",
       "      <td>bank transfer</td>\n",
       "      <td>clothing</td>\n",
       "      <td>desktop</td>\n",
       "    </tr>\n",
       "  </tbody>\n",
       "</table>\n",
       "<p>1472952 rows × 3 columns</p>\n",
       "</div>"
      ],
      "text/plain": [
       "        Payment Method Product Category Device Used\n",
       "0        bank transfer      electronics      tablet\n",
       "1           debit card      electronics     desktop\n",
       "2               PayPal    home & garden      tablet\n",
       "3        bank transfer         clothing     desktop\n",
       "4        bank transfer         clothing      tablet\n",
       "...                ...              ...         ...\n",
       "1472947         PayPal  health & beauty     desktop\n",
       "1472948    credit card         clothing      tablet\n",
       "1472949  bank transfer      electronics      mobile\n",
       "1472950  bank transfer      electronics     desktop\n",
       "1472951  bank transfer         clothing     desktop\n",
       "\n",
       "[1472952 rows x 3 columns]"
      ]
     },
     "execution_count": 271,
     "metadata": {},
     "output_type": "execute_result"
    }
   ],
   "source": [
    "x_train[categ]"
   ]
  },
  {
   "cell_type": "code",
   "execution_count": null,
   "id": "f43e29ac-4ec4-4715-8da7-887c2f8aa07d",
   "metadata": {},
   "outputs": [],
   "source": []
  },
  {
   "cell_type": "code",
   "execution_count": 272,
   "id": "8805a4d0-a271-4885-96a7-a730e7d2d1af",
   "metadata": {},
   "outputs": [],
   "source": [
    "from sklearn.preprocessing import StandardScaler\n",
    "\n",
    "# Standardizing the numerical columns\n",
    "# for traning dataset \n",
    "scaler = StandardScaler()\n",
    "x_train[numer] = scaler.fit_transform(x_train[numer])\n",
    "# for testing dataset\n",
    "x_test[numer] = scaler.fit_transform(df_test[numer])\n"
   ]
  },
  {
   "cell_type": "code",
   "execution_count": 273,
   "id": "0c3c9f74-7815-4db7-beea-231c9181260f",
   "metadata": {},
   "outputs": [
    {
     "data": {
      "text/html": [
       "<div>\n",
       "<style scoped>\n",
       "    .dataframe tbody tr th:only-of-type {\n",
       "        vertical-align: middle;\n",
       "    }\n",
       "\n",
       "    .dataframe tbody tr th {\n",
       "        vertical-align: top;\n",
       "    }\n",
       "\n",
       "    .dataframe thead th {\n",
       "        text-align: right;\n",
       "    }\n",
       "</style>\n",
       "<table border=\"1\" class=\"dataframe\">\n",
       "  <thead>\n",
       "    <tr style=\"text-align: right;\">\n",
       "      <th></th>\n",
       "      <th>Payment Method</th>\n",
       "      <th>Product Category</th>\n",
       "      <th>Device Used</th>\n",
       "    </tr>\n",
       "  </thead>\n",
       "  <tbody>\n",
       "    <tr>\n",
       "      <th>0</th>\n",
       "      <td>PayPal</td>\n",
       "      <td>electronics</td>\n",
       "      <td>desktop</td>\n",
       "    </tr>\n",
       "    <tr>\n",
       "      <th>1</th>\n",
       "      <td>credit card</td>\n",
       "      <td>electronics</td>\n",
       "      <td>tablet</td>\n",
       "    </tr>\n",
       "    <tr>\n",
       "      <th>2</th>\n",
       "      <td>debit card</td>\n",
       "      <td>toys &amp; games</td>\n",
       "      <td>desktop</td>\n",
       "    </tr>\n",
       "    <tr>\n",
       "      <th>3</th>\n",
       "      <td>credit card</td>\n",
       "      <td>electronics</td>\n",
       "      <td>mobile</td>\n",
       "    </tr>\n",
       "    <tr>\n",
       "      <th>4</th>\n",
       "      <td>credit card</td>\n",
       "      <td>clothing</td>\n",
       "      <td>desktop</td>\n",
       "    </tr>\n",
       "    <tr>\n",
       "      <th>...</th>\n",
       "      <td>...</td>\n",
       "      <td>...</td>\n",
       "      <td>...</td>\n",
       "    </tr>\n",
       "    <tr>\n",
       "      <th>23629</th>\n",
       "      <td>PayPal</td>\n",
       "      <td>toys &amp; games</td>\n",
       "      <td>tablet</td>\n",
       "    </tr>\n",
       "    <tr>\n",
       "      <th>23630</th>\n",
       "      <td>credit card</td>\n",
       "      <td>clothing</td>\n",
       "      <td>desktop</td>\n",
       "    </tr>\n",
       "    <tr>\n",
       "      <th>23631</th>\n",
       "      <td>bank transfer</td>\n",
       "      <td>health &amp; beauty</td>\n",
       "      <td>tablet</td>\n",
       "    </tr>\n",
       "    <tr>\n",
       "      <th>23632</th>\n",
       "      <td>debit card</td>\n",
       "      <td>home &amp; garden</td>\n",
       "      <td>mobile</td>\n",
       "    </tr>\n",
       "    <tr>\n",
       "      <th>23633</th>\n",
       "      <td>credit card</td>\n",
       "      <td>clothing</td>\n",
       "      <td>tablet</td>\n",
       "    </tr>\n",
       "  </tbody>\n",
       "</table>\n",
       "<p>23634 rows × 3 columns</p>\n",
       "</div>"
      ],
      "text/plain": [
       "      Payment Method Product Category Device Used\n",
       "0             PayPal      electronics     desktop\n",
       "1        credit card      electronics      tablet\n",
       "2         debit card     toys & games     desktop\n",
       "3        credit card      electronics      mobile\n",
       "4        credit card         clothing     desktop\n",
       "...              ...              ...         ...\n",
       "23629         PayPal     toys & games      tablet\n",
       "23630    credit card         clothing     desktop\n",
       "23631  bank transfer  health & beauty      tablet\n",
       "23632     debit card    home & garden      mobile\n",
       "23633    credit card         clothing      tablet\n",
       "\n",
       "[23634 rows x 3 columns]"
      ]
     },
     "execution_count": 273,
     "metadata": {},
     "output_type": "execute_result"
    }
   ],
   "source": [
    "# df_train[numer],df_test[numer]\n",
    "x_test[categ]"
   ]
  },
  {
   "cell_type": "code",
   "execution_count": null,
   "id": "12081c45-be27-4cf1-8226-c760510207ac",
   "metadata": {},
   "outputs": [],
   "source": [
    "\n"
   ]
  },
  {
   "cell_type": "code",
   "execution_count": 274,
   "id": "d8006ae7-3388-4b48-8368-f729da2000c1",
   "metadata": {},
   "outputs": [],
   "source": [
    "from sklearn.preprocessing import OneHotEncoder\n",
    "x_train\n",
    "# for training data \n",
    "\n",
    "# Applying One-Hot Encoding to categorical columns\n",
    "one_hot_encoder = OneHotEncoder(sparse_output=False, drop='first')  # 'sparse_output' replaces 'sparse'\n",
    "encoded_columns = one_hot_encoder.fit_transform(x_train[categ])\n",
    "\n",
    "# Convert the result to a DataFrame and concatenate it back to the original DataFrame\n",
    "encoded_df = pd.DataFrame(encoded_columns, columns=one_hot_encoder.get_feature_names_out(categ))\n",
    "x_train = pd.concat([x_train[numer], encoded_df], axis=1)\n",
    "x_train=pd.DataFrame(x_train)"
   ]
  },
  {
   "cell_type": "code",
   "execution_count": 275,
   "id": "f349bfcf-6778-4555-92bb-c28e8872310c",
   "metadata": {},
   "outputs": [],
   "source": [
    "one_hot_encoder = OneHotEncoder(sparse_output=False, drop='first')  # 'sparse_output' replaces 'sparse'\n",
    "encoded_columns = one_hot_encoder.fit_transform(x_test[categ])\n",
    "\n",
    "# Convert the result to a DataFrame and concatenate it back to the original DataFrame\n",
    "encoded_df = pd.DataFrame(encoded_columns, columns=one_hot_encoder.get_feature_names_out(categ))\n",
    "x_test = (pd.concat([x_test[numer], encoded_df], axis=1))\n",
    "x_test=pd.DataFrame(x_test)"
   ]
  },
  {
   "cell_type": "code",
   "execution_count": 280,
   "id": "dc025db1-828f-4121-b98b-26b54d5e3eb4",
   "metadata": {},
   "outputs": [
    {
     "data": {
      "text/html": [
       "<div>\n",
       "<style scoped>\n",
       "    .dataframe tbody tr th:only-of-type {\n",
       "        vertical-align: middle;\n",
       "    }\n",
       "\n",
       "    .dataframe tbody tr th {\n",
       "        vertical-align: top;\n",
       "    }\n",
       "\n",
       "    .dataframe thead th {\n",
       "        text-align: right;\n",
       "    }\n",
       "</style>\n",
       "<table border=\"1\" class=\"dataframe\">\n",
       "  <thead>\n",
       "    <tr style=\"text-align: right;\">\n",
       "      <th></th>\n",
       "      <th>Transaction Amount</th>\n",
       "      <th>Quantity</th>\n",
       "      <th>Customer Age</th>\n",
       "      <th>Address Match</th>\n",
       "      <th>Account Age Days</th>\n",
       "      <th>Transaction Hour</th>\n",
       "      <th>Payment Method_bank transfer</th>\n",
       "      <th>Payment Method_credit card</th>\n",
       "      <th>Payment Method_debit card</th>\n",
       "      <th>Product Category_electronics</th>\n",
       "      <th>Product Category_health &amp; beauty</th>\n",
       "      <th>Product Category_home &amp; garden</th>\n",
       "      <th>Product Category_toys &amp; games</th>\n",
       "      <th>Device Used_mobile</th>\n",
       "      <th>Device Used_tablet</th>\n",
       "    </tr>\n",
       "  </thead>\n",
       "  <tbody>\n",
       "    <tr>\n",
       "      <th>count</th>\n",
       "      <td>2.363400e+04</td>\n",
       "      <td>2.363400e+04</td>\n",
       "      <td>2.363400e+04</td>\n",
       "      <td>2.363400e+04</td>\n",
       "      <td>2.363400e+04</td>\n",
       "      <td>2.363400e+04</td>\n",
       "      <td>23634.000000</td>\n",
       "      <td>23634.000000</td>\n",
       "      <td>23634.000000</td>\n",
       "      <td>23634.000000</td>\n",
       "      <td>23634.000000</td>\n",
       "      <td>23634.000000</td>\n",
       "      <td>23634.000000</td>\n",
       "      <td>23634.000000</td>\n",
       "      <td>23634.000000</td>\n",
       "    </tr>\n",
       "    <tr>\n",
       "      <th>mean</th>\n",
       "      <td>6.343595e-17</td>\n",
       "      <td>-1.089836e-16</td>\n",
       "      <td>2.922263e-16</td>\n",
       "      <td>1.226629e-16</td>\n",
       "      <td>1.292770e-16</td>\n",
       "      <td>1.088332e-16</td>\n",
       "      <td>0.247948</td>\n",
       "      <td>0.250614</td>\n",
       "      <td>0.251841</td>\n",
       "      <td>0.200897</td>\n",
       "      <td>0.197639</td>\n",
       "      <td>0.202505</td>\n",
       "      <td>0.200135</td>\n",
       "      <td>0.333460</td>\n",
       "      <td>0.331302</td>\n",
       "    </tr>\n",
       "    <tr>\n",
       "      <th>std</th>\n",
       "      <td>1.000021e+00</td>\n",
       "      <td>1.000021e+00</td>\n",
       "      <td>1.000021e+00</td>\n",
       "      <td>1.000021e+00</td>\n",
       "      <td>1.000021e+00</td>\n",
       "      <td>1.000021e+00</td>\n",
       "      <td>0.431831</td>\n",
       "      <td>0.433376</td>\n",
       "      <td>0.434079</td>\n",
       "      <td>0.400680</td>\n",
       "      <td>0.398227</td>\n",
       "      <td>0.401875</td>\n",
       "      <td>0.400110</td>\n",
       "      <td>0.471459</td>\n",
       "      <td>0.470691</td>\n",
       "    </tr>\n",
       "    <tr>\n",
       "      <th>min</th>\n",
       "      <td>-7.777853e-01</td>\n",
       "      <td>-1.409202e+00</td>\n",
       "      <td>-2.622018e+00</td>\n",
       "      <td>-3.015191e+00</td>\n",
       "      <td>-1.654404e+00</td>\n",
       "      <td>-1.613924e+00</td>\n",
       "      <td>0.000000</td>\n",
       "      <td>0.000000</td>\n",
       "      <td>0.000000</td>\n",
       "      <td>0.000000</td>\n",
       "      <td>0.000000</td>\n",
       "      <td>0.000000</td>\n",
       "      <td>0.000000</td>\n",
       "      <td>0.000000</td>\n",
       "      <td>0.000000</td>\n",
       "    </tr>\n",
       "    <tr>\n",
       "      <th>25%</th>\n",
       "      <td>-5.683474e-01</td>\n",
       "      <td>-7.047947e-01</td>\n",
       "      <td>-6.836766e-01</td>\n",
       "      <td>3.316540e-01</td>\n",
       "      <td>-8.814945e-01</td>\n",
       "      <td>-8.976442e-01</td>\n",
       "      <td>0.000000</td>\n",
       "      <td>0.000000</td>\n",
       "      <td>0.000000</td>\n",
       "      <td>0.000000</td>\n",
       "      <td>0.000000</td>\n",
       "      <td>0.000000</td>\n",
       "      <td>0.000000</td>\n",
       "      <td>0.000000</td>\n",
       "      <td>0.000000</td>\n",
       "    </tr>\n",
       "    <tr>\n",
       "      <th>50%</th>\n",
       "      <td>-2.763860e-01</td>\n",
       "      <td>-3.874627e-04</td>\n",
       "      <td>3.044913e-02</td>\n",
       "      <td>3.316540e-01</td>\n",
       "      <td>-6.150978e-03</td>\n",
       "      <td>-3.810825e-02</td>\n",
       "      <td>0.000000</td>\n",
       "      <td>0.000000</td>\n",
       "      <td>0.000000</td>\n",
       "      <td>0.000000</td>\n",
       "      <td>0.000000</td>\n",
       "      <td>0.000000</td>\n",
       "      <td>0.000000</td>\n",
       "      <td>0.000000</td>\n",
       "      <td>0.000000</td>\n",
       "    </tr>\n",
       "    <tr>\n",
       "      <th>75%</th>\n",
       "      <td>2.367048e-01</td>\n",
       "      <td>7.040198e-01</td>\n",
       "      <td>6.425569e-01</td>\n",
       "      <td>3.316540e-01</td>\n",
       "      <td>8.691926e-01</td>\n",
       "      <td>8.214277e-01</td>\n",
       "      <td>0.000000</td>\n",
       "      <td>1.000000</td>\n",
       "      <td>1.000000</td>\n",
       "      <td>0.000000</td>\n",
       "      <td>0.000000</td>\n",
       "      <td>0.000000</td>\n",
       "      <td>0.000000</td>\n",
       "      <td>1.000000</td>\n",
       "      <td>1.000000</td>\n",
       "    </tr>\n",
       "    <tr>\n",
       "      <th>max</th>\n",
       "      <td>3.363746e+01</td>\n",
       "      <td>1.408427e+00</td>\n",
       "      <td>3.907132e+00</td>\n",
       "      <td>3.316540e-01</td>\n",
       "      <td>1.735224e+00</td>\n",
       "      <td>1.680964e+00</td>\n",
       "      <td>1.000000</td>\n",
       "      <td>1.000000</td>\n",
       "      <td>1.000000</td>\n",
       "      <td>1.000000</td>\n",
       "      <td>1.000000</td>\n",
       "      <td>1.000000</td>\n",
       "      <td>1.000000</td>\n",
       "      <td>1.000000</td>\n",
       "      <td>1.000000</td>\n",
       "    </tr>\n",
       "  </tbody>\n",
       "</table>\n",
       "</div>"
      ],
      "text/plain": [
       "       Transaction Amount      Quantity  Customer Age  Address Match  \\\n",
       "count        2.363400e+04  2.363400e+04  2.363400e+04   2.363400e+04   \n",
       "mean         6.343595e-17 -1.089836e-16  2.922263e-16   1.226629e-16   \n",
       "std          1.000021e+00  1.000021e+00  1.000021e+00   1.000021e+00   \n",
       "min         -7.777853e-01 -1.409202e+00 -2.622018e+00  -3.015191e+00   \n",
       "25%         -5.683474e-01 -7.047947e-01 -6.836766e-01   3.316540e-01   \n",
       "50%         -2.763860e-01 -3.874627e-04  3.044913e-02   3.316540e-01   \n",
       "75%          2.367048e-01  7.040198e-01  6.425569e-01   3.316540e-01   \n",
       "max          3.363746e+01  1.408427e+00  3.907132e+00   3.316540e-01   \n",
       "\n",
       "       Account Age Days  Transaction Hour  Payment Method_bank transfer  \\\n",
       "count      2.363400e+04      2.363400e+04                  23634.000000   \n",
       "mean       1.292770e-16      1.088332e-16                      0.247948   \n",
       "std        1.000021e+00      1.000021e+00                      0.431831   \n",
       "min       -1.654404e+00     -1.613924e+00                      0.000000   \n",
       "25%       -8.814945e-01     -8.976442e-01                      0.000000   \n",
       "50%       -6.150978e-03     -3.810825e-02                      0.000000   \n",
       "75%        8.691926e-01      8.214277e-01                      0.000000   \n",
       "max        1.735224e+00      1.680964e+00                      1.000000   \n",
       "\n",
       "       Payment Method_credit card  Payment Method_debit card  \\\n",
       "count                23634.000000               23634.000000   \n",
       "mean                     0.250614                   0.251841   \n",
       "std                      0.433376                   0.434079   \n",
       "min                      0.000000                   0.000000   \n",
       "25%                      0.000000                   0.000000   \n",
       "50%                      0.000000                   0.000000   \n",
       "75%                      1.000000                   1.000000   \n",
       "max                      1.000000                   1.000000   \n",
       "\n",
       "       Product Category_electronics  Product Category_health & beauty  \\\n",
       "count                  23634.000000                      23634.000000   \n",
       "mean                       0.200897                          0.197639   \n",
       "std                        0.400680                          0.398227   \n",
       "min                        0.000000                          0.000000   \n",
       "25%                        0.000000                          0.000000   \n",
       "50%                        0.000000                          0.000000   \n",
       "75%                        0.000000                          0.000000   \n",
       "max                        1.000000                          1.000000   \n",
       "\n",
       "       Product Category_home & garden  Product Category_toys & games  \\\n",
       "count                    23634.000000                   23634.000000   \n",
       "mean                         0.202505                       0.200135   \n",
       "std                          0.401875                       0.400110   \n",
       "min                          0.000000                       0.000000   \n",
       "25%                          0.000000                       0.000000   \n",
       "50%                          0.000000                       0.000000   \n",
       "75%                          0.000000                       0.000000   \n",
       "max                          1.000000                       1.000000   \n",
       "\n",
       "       Device Used_mobile  Device Used_tablet  \n",
       "count        23634.000000        23634.000000  \n",
       "mean             0.333460            0.331302  \n",
       "std              0.471459            0.470691  \n",
       "min              0.000000            0.000000  \n",
       "25%              0.000000            0.000000  \n",
       "50%              0.000000            0.000000  \n",
       "75%              1.000000            1.000000  \n",
       "max              1.000000            1.000000  "
      ]
     },
     "execution_count": 280,
     "metadata": {},
     "output_type": "execute_result"
    }
   ],
   "source": [
    "x_test.describe()\n"
   ]
  },
  {
   "cell_type": "code",
   "execution_count": 237,
   "id": "f27710ae-8dd5-4b80-987f-18cfef35725e",
   "metadata": {},
   "outputs": [],
   "source": [
    "from sklearn.model_selection import train_test_split\n",
    "from sklearn.neighbors import KNeighborsClassifier"
   ]
  },
  {
   "cell_type": "code",
   "execution_count": 148,
   "id": "03948dfc-c629-44dc-aa35-3b8592ce9312",
   "metadata": {},
   "outputs": [],
   "source": [
    "x_train,x_test,y_train,y_test=train_test_split(df_train,y,  train_size=.20,random_state=42,)\n"
   ]
  },
  {
   "cell_type": "code",
   "execution_count": 293,
   "id": "1ad8a1d1-d14b-479f-a00e-8c7a1877ce2c",
   "metadata": {},
   "outputs": [
    {
     "data": {
      "text/plain": [
       "((1472952, 9), (1472952,))"
      ]
     },
     "execution_count": 293,
     "metadata": {},
     "output_type": "execute_result"
    }
   ],
   "source": [
    "X = np.array(x_train) \n",
    "y = np.array(y_train)\n",
    "x.shape,y.shape"
   ]
  },
  {
   "cell_type": "code",
   "execution_count": 288,
   "id": "77af704d-305b-429f-be48-5e2799b4f937",
   "metadata": {},
   "outputs": [],
   "source": [
    "knn=KNeighborsClassifier()"
   ]
  },
  {
   "cell_type": "code",
   "execution_count": null,
   "id": "1008b927-042e-4c73-8f05-293ada9e9e1f",
   "metadata": {},
   "outputs": [],
   "source": [
    "knn.fit(X,y)"
   ]
  },
  {
   "cell_type": "code",
   "execution_count": 290,
   "id": "2ee45206-d041-45c2-b4a0-428575080a7b",
   "metadata": {},
   "outputs": [
    {
     "name": "stderr",
     "output_type": "stream",
     "text": [
      "C:\\Python312\\Lib\\site-packages\\sklearn\\base.py:486: UserWarning: X has feature names, but KNeighborsClassifier was fitted without feature names\n",
      "  warnings.warn(\n"
     ]
    },
    {
     "data": {
      "text/plain": [
       "0.9512566641279513"
      ]
     },
     "execution_count": 290,
     "metadata": {},
     "output_type": "execute_result"
    }
   ],
   "source": [
    "knn.score(x_test,y_test)*100"
   ]
  },
  {
   "cell_type": "code",
   "execution_count": null,
   "id": "41a00073-5601-4f5b-9cff-00387679d68d",
   "metadata": {},
   "outputs": [
    {
     "name": "stderr",
     "output_type": "stream",
     "text": [
      "C:\\Python312\\Lib\\site-packages\\sklearn\\base.py:486: UserWarning: X has feature names, but KNeighborsClassifier was fitted without feature names\n",
      "  warnings.warn(\n"
     ]
    }
   ],
   "source": [
    "knn.score(x_train,y_train)*100"
   ]
  },
  {
   "cell_type": "code",
   "execution_count": null,
   "id": "615ec662-174f-4201-8817-ab1cf7439b18",
   "metadata": {},
   "outputs": [],
   "source": [
    "y_pred=knn_cv.predict(x_test)"
   ]
  },
  {
   "cell_type": "code",
   "execution_count": null,
   "id": "76815475-44a4-4fe7-93fa-5287b5695396",
   "metadata": {},
   "outputs": [],
   "source": [
    "classification_report(y_test,y_pred)"
   ]
  },
  {
   "cell_type": "code",
   "execution_count": null,
   "id": "809585c7-aecd-455e-aec5-9d93c0013287",
   "metadata": {},
   "outputs": [],
   "source": []
  }
 ],
 "metadata": {
  "kernelspec": {
   "display_name": "Python 3 (ipykernel)",
   "language": "python",
   "name": "python3"
  },
  "language_info": {
   "codemirror_mode": {
    "name": "ipython",
    "version": 3
   },
   "file_extension": ".py",
   "mimetype": "text/x-python",
   "name": "python",
   "nbconvert_exporter": "python",
   "pygments_lexer": "ipython3",
   "version": "3.12.0"
  },
  "widgets": {
   "application/vnd.jupyter.widget-state+json": {
    "state": {},
    "version_major": 2,
    "version_minor": 0
   }
  }
 },
 "nbformat": 4,
 "nbformat_minor": 5
}
